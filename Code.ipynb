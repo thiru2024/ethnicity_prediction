{
  "nbformat": 4,
  "nbformat_minor": 0,
  "metadata": {
    "accelerator": "GPU",
    "colab": {
      "name": "Copy of Untitled9.ipynb",
      "provenance": [],
      "collapsed_sections": [],
      "authorship_tag": "ABX9TyPbza6/NWFAweJPXMjtgqB5",
      "include_colab_link": true
    },
    "kernelspec": {
      "display_name": "Python 3",
      "name": "python3"
    },
    "language_info": {
      "name": "python"
    }
  },
  "cells": [
    {
      "cell_type": "markdown",
      "metadata": {
        "id": "view-in-github",
        "colab_type": "text"
      },
      "source": [
        "<a href=\"https://colab.research.google.com/github/thiru2024/ethnicity_prediction/blob/main/Code.ipynb\" target=\"_parent\"><img src=\"https://colab.research.google.com/assets/colab-badge.svg\" alt=\"Open In Colab\"/></a>"
      ]
    },
    {
      "cell_type": "code",
      "metadata": {
        "id": "m-Pv-mqwMmJA"
      },
      "source": [
        "from tensorflow.keras.applications import VGG19\n",
        "from tensorflow.keras.layers import Input,Dense,Flatten\n",
        "from tensorflow.keras.preprocessing.image import ImageDataGenerator,load_img\n",
        "from tensorflow.keras.models import Model,Sequential"
      ],
      "execution_count": 153,
      "outputs": []
    },
    {
      "cell_type": "code",
      "metadata": {
        "id": "utUJd-wTM5qc"
      },
      "source": [
        "image_size = [266,266]"
      ],
      "execution_count": 154,
      "outputs": []
    },
    {
      "cell_type": "code",
      "metadata": {
        "id": "B9x3PwLbM6QP"
      },
      "source": [
        "model = VGG19(input_shape = image_size+[3],include_top=False,weights='imagenet')"
      ],
      "execution_count": 155,
      "outputs": []
    },
    {
      "cell_type": "code",
      "metadata": {
        "colab": {
          "base_uri": "https://localhost:8080/"
        },
        "id": "tosdgWz1M6Yl",
        "outputId": "0a2e3428-3f56-454b-bf4d-ed7fac7761d1"
      },
      "source": [
        "for layer in model.layers:\n",
        "    layer.trainable = False\n",
        "model.summary()"
      ],
      "execution_count": 156,
      "outputs": [
        {
          "output_type": "stream",
          "name": "stdout",
          "text": [
            "Model: \"vgg19\"\n",
            "_________________________________________________________________\n",
            " Layer (type)                Output Shape              Param #   \n",
            "=================================================================\n",
            " input_4 (InputLayer)        [(None, 266, 266, 3)]     0         \n",
            "                                                                 \n",
            " block1_conv1 (Conv2D)       (None, 266, 266, 64)      1792      \n",
            "                                                                 \n",
            " block1_conv2 (Conv2D)       (None, 266, 266, 64)      36928     \n",
            "                                                                 \n",
            " block1_pool (MaxPooling2D)  (None, 133, 133, 64)      0         \n",
            "                                                                 \n",
            " block2_conv1 (Conv2D)       (None, 133, 133, 128)     73856     \n",
            "                                                                 \n",
            " block2_conv2 (Conv2D)       (None, 133, 133, 128)     147584    \n",
            "                                                                 \n",
            " block2_pool (MaxPooling2D)  (None, 66, 66, 128)       0         \n",
            "                                                                 \n",
            " block3_conv1 (Conv2D)       (None, 66, 66, 256)       295168    \n",
            "                                                                 \n",
            " block3_conv2 (Conv2D)       (None, 66, 66, 256)       590080    \n",
            "                                                                 \n",
            " block3_conv3 (Conv2D)       (None, 66, 66, 256)       590080    \n",
            "                                                                 \n",
            " block3_conv4 (Conv2D)       (None, 66, 66, 256)       590080    \n",
            "                                                                 \n",
            " block3_pool (MaxPooling2D)  (None, 33, 33, 256)       0         \n",
            "                                                                 \n",
            " block4_conv1 (Conv2D)       (None, 33, 33, 512)       1180160   \n",
            "                                                                 \n",
            " block4_conv2 (Conv2D)       (None, 33, 33, 512)       2359808   \n",
            "                                                                 \n",
            " block4_conv3 (Conv2D)       (None, 33, 33, 512)       2359808   \n",
            "                                                                 \n",
            " block4_conv4 (Conv2D)       (None, 33, 33, 512)       2359808   \n",
            "                                                                 \n",
            " block4_pool (MaxPooling2D)  (None, 16, 16, 512)       0         \n",
            "                                                                 \n",
            " block5_conv1 (Conv2D)       (None, 16, 16, 512)       2359808   \n",
            "                                                                 \n",
            " block5_conv2 (Conv2D)       (None, 16, 16, 512)       2359808   \n",
            "                                                                 \n",
            " block5_conv3 (Conv2D)       (None, 16, 16, 512)       2359808   \n",
            "                                                                 \n",
            " block5_conv4 (Conv2D)       (None, 16, 16, 512)       2359808   \n",
            "                                                                 \n",
            " block5_pool (MaxPooling2D)  (None, 8, 8, 512)         0         \n",
            "                                                                 \n",
            "=================================================================\n",
            "Total params: 20,024,384\n",
            "Trainable params: 0\n",
            "Non-trainable params: 20,024,384\n",
            "_________________________________________________________________\n"
          ]
        }
      ]
    },
    {
      "cell_type": "code",
      "metadata": {
        "id": "OdnZKgpDM6lu"
      },
      "source": [
        "final = Model(inputs = model.input,outputs = Dense(1,activation = 'sigmoid')(Flatten()(model.output)))"
      ],
      "execution_count": 157,
      "outputs": []
    },
    {
      "cell_type": "code",
      "metadata": {
        "colab": {
          "base_uri": "https://localhost:8080/"
        },
        "id": "DeWIVJp1M6wP",
        "outputId": "84baeca5-f0fe-4ed0-9f31-45ebcf8b772f"
      },
      "source": [
        "final.summary()"
      ],
      "execution_count": 158,
      "outputs": [
        {
          "output_type": "stream",
          "name": "stdout",
          "text": [
            "Model: \"model_3\"\n",
            "_________________________________________________________________\n",
            " Layer (type)                Output Shape              Param #   \n",
            "=================================================================\n",
            " input_4 (InputLayer)        [(None, 266, 266, 3)]     0         \n",
            "                                                                 \n",
            " block1_conv1 (Conv2D)       (None, 266, 266, 64)      1792      \n",
            "                                                                 \n",
            " block1_conv2 (Conv2D)       (None, 266, 266, 64)      36928     \n",
            "                                                                 \n",
            " block1_pool (MaxPooling2D)  (None, 133, 133, 64)      0         \n",
            "                                                                 \n",
            " block2_conv1 (Conv2D)       (None, 133, 133, 128)     73856     \n",
            "                                                                 \n",
            " block2_conv2 (Conv2D)       (None, 133, 133, 128)     147584    \n",
            "                                                                 \n",
            " block2_pool (MaxPooling2D)  (None, 66, 66, 128)       0         \n",
            "                                                                 \n",
            " block3_conv1 (Conv2D)       (None, 66, 66, 256)       295168    \n",
            "                                                                 \n",
            " block3_conv2 (Conv2D)       (None, 66, 66, 256)       590080    \n",
            "                                                                 \n",
            " block3_conv3 (Conv2D)       (None, 66, 66, 256)       590080    \n",
            "                                                                 \n",
            " block3_conv4 (Conv2D)       (None, 66, 66, 256)       590080    \n",
            "                                                                 \n",
            " block3_pool (MaxPooling2D)  (None, 33, 33, 256)       0         \n",
            "                                                                 \n",
            " block4_conv1 (Conv2D)       (None, 33, 33, 512)       1180160   \n",
            "                                                                 \n",
            " block4_conv2 (Conv2D)       (None, 33, 33, 512)       2359808   \n",
            "                                                                 \n",
            " block4_conv3 (Conv2D)       (None, 33, 33, 512)       2359808   \n",
            "                                                                 \n",
            " block4_conv4 (Conv2D)       (None, 33, 33, 512)       2359808   \n",
            "                                                                 \n",
            " block4_pool (MaxPooling2D)  (None, 16, 16, 512)       0         \n",
            "                                                                 \n",
            " block5_conv1 (Conv2D)       (None, 16, 16, 512)       2359808   \n",
            "                                                                 \n",
            " block5_conv2 (Conv2D)       (None, 16, 16, 512)       2359808   \n",
            "                                                                 \n",
            " block5_conv3 (Conv2D)       (None, 16, 16, 512)       2359808   \n",
            "                                                                 \n",
            " block5_conv4 (Conv2D)       (None, 16, 16, 512)       2359808   \n",
            "                                                                 \n",
            " block5_pool (MaxPooling2D)  (None, 8, 8, 512)         0         \n",
            "                                                                 \n",
            " flatten_3 (Flatten)         (None, 32768)             0         \n",
            "                                                                 \n",
            " dense_3 (Dense)             (None, 1)                 32769     \n",
            "                                                                 \n",
            "=================================================================\n",
            "Total params: 20,057,153\n",
            "Trainable params: 32,769\n",
            "Non-trainable params: 20,024,384\n",
            "_________________________________________________________________\n"
          ]
        }
      ]
    },
    {
      "cell_type": "code",
      "metadata": {
        "id": "CBf26_Z6M65Q"
      },
      "source": [
        "final.compile(loss = 'binary_crossentropy',optimizer='adam',metrics = ['accuracy'])"
      ],
      "execution_count": 159,
      "outputs": []
    },
    {
      "cell_type": "code",
      "metadata": {
        "colab": {
          "base_uri": "https://localhost:8080/"
        },
        "id": "JSuYNjeTM7Bn",
        "outputId": "c6e49195-a91f-4233-d29b-7d76c890c733"
      },
      "source": [
        "from google.colab import drive\n",
        "drive.mount('/content/drive')"
      ],
      "execution_count": 160,
      "outputs": [
        {
          "output_type": "stream",
          "name": "stdout",
          "text": [
            "Drive already mounted at /content/drive; to attempt to forcibly remount, call drive.mount(\"/content/drive\", force_remount=True).\n"
          ]
        }
      ]
    },
    {
      "cell_type": "code",
      "metadata": {
        "id": "Zs9qGvSjPVYF"
      },
      "source": [
        "train = '/content/drive/My Drive/ethinicity_predictor/train'\n",
        "test = '/content/drive/My Drive/ethinicity_predictor/test'"
      ],
      "execution_count": 161,
      "outputs": []
    },
    {
      "cell_type": "code",
      "metadata": {
        "id": "YBP7uHZLPV7n"
      },
      "source": [
        "train_aug = ImageDataGenerator(rescale = 1./255,zoom_range=0.2,shear_range=0.3,horizontal_flip=True)\n",
        "test_aug = ImageDataGenerator(rescale = 1./255)"
      ],
      "execution_count": 162,
      "outputs": []
    },
    {
      "cell_type": "code",
      "metadata": {
        "colab": {
          "base_uri": "https://localhost:8080/"
        },
        "id": "mDrs8_wdPWFT",
        "outputId": "4c821b82-8a28-41b1-9077-dd7fefe3151b"
      },
      "source": [
        "final_train = train_aug.flow_from_directory(train,target_size=(266,266),batch_size=32,class_mode ='binary')"
      ],
      "execution_count": 163,
      "outputs": [
        {
          "output_type": "stream",
          "name": "stdout",
          "text": [
            "Found 413 images belonging to 2 classes.\n"
          ]
        }
      ]
    },
    {
      "cell_type": "code",
      "metadata": {
        "colab": {
          "base_uri": "https://localhost:8080/"
        },
        "id": "Riyb0ajRPW43",
        "outputId": "19d5fe99-09ec-48e7-f81e-5c785c9d22a8"
      },
      "source": [
        "final_test = test_aug.flow_from_directory(test,target_size=(266,266),batch_size=32,class_mode='binary')"
      ],
      "execution_count": 164,
      "outputs": [
        {
          "output_type": "stream",
          "name": "stdout",
          "text": [
            "Found 155 images belonging to 2 classes.\n"
          ]
        }
      ]
    },
    {
      "cell_type": "code",
      "metadata": {
        "colab": {
          "base_uri": "https://localhost:8080/"
        },
        "id": "gSmVbqM7PXGj",
        "outputId": "afa692a6-e73c-4011-c2ec-25da66174e07"
      },
      "source": [
        "vgg19 = final.fit(final_train,epochs=10,validation_data = final_test)"
      ],
      "execution_count": 165,
      "outputs": [
        {
          "output_type": "stream",
          "name": "stdout",
          "text": [
            "Epoch 1/10\n",
            "13/13 [==============================] - 25s 2s/step - loss: 0.8735 - accuracy: 0.5981 - val_loss: 0.7652 - val_accuracy: 0.5935\n",
            "Epoch 2/10\n",
            "13/13 [==============================] - 12s 892ms/step - loss: 0.4196 - accuracy: 0.8087 - val_loss: 0.5069 - val_accuracy: 0.7419\n",
            "Epoch 3/10\n",
            "13/13 [==============================] - 12s 913ms/step - loss: 0.3027 - accuracy: 0.8886 - val_loss: 0.5055 - val_accuracy: 0.7226\n",
            "Epoch 4/10\n",
            "13/13 [==============================] - 12s 902ms/step - loss: 0.2256 - accuracy: 0.9346 - val_loss: 0.4523 - val_accuracy: 0.7806\n",
            "Epoch 5/10\n",
            "13/13 [==============================] - 12s 898ms/step - loss: 0.1901 - accuracy: 0.9516 - val_loss: 0.4262 - val_accuracy: 0.8000\n",
            "Epoch 6/10\n",
            "13/13 [==============================] - 12s 915ms/step - loss: 0.1634 - accuracy: 0.9492 - val_loss: 0.4146 - val_accuracy: 0.8065\n",
            "Epoch 7/10\n",
            "13/13 [==============================] - 12s 893ms/step - loss: 0.1286 - accuracy: 0.9855 - val_loss: 0.4155 - val_accuracy: 0.7871\n",
            "Epoch 8/10\n",
            "13/13 [==============================] - 12s 912ms/step - loss: 0.1144 - accuracy: 0.9879 - val_loss: 0.4266 - val_accuracy: 0.7613\n",
            "Epoch 9/10\n",
            "13/13 [==============================] - 12s 910ms/step - loss: 0.1139 - accuracy: 0.9806 - val_loss: 0.4516 - val_accuracy: 0.7419\n",
            "Epoch 10/10\n",
            "13/13 [==============================] - 12s 908ms/step - loss: 0.0901 - accuracy: 0.9903 - val_loss: 0.3869 - val_accuracy: 0.8258\n"
          ]
        }
      ]
    },
    {
      "cell_type": "code",
      "metadata": {
        "colab": {
          "base_uri": "https://localhost:8080/"
        },
        "id": "3dygM3p7J_E1",
        "outputId": "e6e28c52-59ed-4759-9850-bc8193e8d715"
      },
      "source": [
        "final.save('imagevgg19')"
      ],
      "execution_count": 166,
      "outputs": [
        {
          "output_type": "stream",
          "name": "stdout",
          "text": [
            "INFO:tensorflow:Assets written to: imagevgg19/assets\n"
          ]
        }
      ]
    },
    {
      "cell_type": "code",
      "metadata": {
        "colab": {
          "base_uri": "https://localhost:8080/",
          "height": 833
        },
        "id": "TAWIgt5QPXTs",
        "outputId": "b3624869-40ab-4d95-95e5-4da6e97088ed"
      },
      "source": [
        "%matplotlib inline\n",
        "import matplotlib.pyplot as plt\n",
        "acc = vgg19.history['accuracy']\n",
        "val_acc = vgg19.history['val_accuracy']\n",
        "loss = vgg19.history['loss']\n",
        "val_loss = vgg19.history['val_loss']\n",
        "\n",
        "epochs = range(10)\n",
        "plt.figure(figsize=(8, 8))\n",
        "plt.plot(epochs,acc, label='Training Accuracy')\n",
        "plt.plot(epochs,val_acc, label='Validation Accuracy')\n",
        "plt.legend(loc='lower right')\n",
        "plt.title('Training and Validation Accuracy')\n",
        "plt.show()\n",
        "plt.subplot(1, 1, 1)\n",
        "plt.plot(epochs, loss, label='Training Loss')\n",
        "plt.plot(epochs, val_loss, label='Validation Loss')\n",
        "plt.legend(loc='upper right')\n",
        "plt.title('Training and Validation Loss')\n",
        "plt.show()"
      ],
      "execution_count": 177,
      "outputs": [
        {
          "output_type": "execute_result",
          "data": {
            "text/plain": [
              "<Figure size 576x576 with 0 Axes>"
            ]
          },
          "metadata": {},
          "execution_count": 177
        },
        {
          "output_type": "execute_result",
          "data": {
            "text/plain": [
              "[<matplotlib.lines.Line2D at 0x7ff6c0079b50>]"
            ]
          },
          "metadata": {},
          "execution_count": 177
        },
        {
          "output_type": "execute_result",
          "data": {
            "text/plain": [
              "[<matplotlib.lines.Line2D at 0x7ff6c0079750>]"
            ]
          },
          "metadata": {},
          "execution_count": 177
        },
        {
          "output_type": "execute_result",
          "data": {
            "text/plain": [
              "<matplotlib.legend.Legend at 0x7ff735ce6290>"
            ]
          },
          "metadata": {},
          "execution_count": 177
        },
        {
          "output_type": "execute_result",
          "data": {
            "text/plain": [
              "Text(0.5, 1.0, 'Training and Validation Accuracy')"
            ]
          },
          "metadata": {},
          "execution_count": 177
        },
        {
          "output_type": "display_data",
          "data": {
            "image/png": "[encoded data removed]",
            "text/plain": [
              "<Figure size 576x576 with 1 Axes>"
            ]
          },
          "metadata": {
            "needs_background": "light"
          }
        },
        {
          "output_type": "execute_result",
          "data": {
            "text/plain": [
              "<matplotlib.axes._subplots.AxesSubplot at 0x7ff6c0371a50>"
            ]
          },
          "metadata": {},
          "execution_count": 177
        },
        {
          "output_type": "execute_result",
          "data": {
            "text/plain": [
              "[<matplotlib.lines.Line2D at 0x7ff6c0525e50>]"
            ]
          },
          "metadata": {},
          "execution_count": 177
        },
        {
          "output_type": "execute_result",
          "data": {
            "text/plain": [
              "[<matplotlib.lines.Line2D at 0x7ff6c0525a90>]"
            ]
          },
          "metadata": {},
          "execution_count": 177
        },
        {
          "output_type": "execute_result",
          "data": {
            "text/plain": [
              "<matplotlib.legend.Legend at 0x7ff6c0322350>"
            ]
          },
          "metadata": {},
          "execution_count": 177
        },
        {
          "output_type": "execute_result",
          "data": {
            "text/plain": [
              "Text(0.5, 1.0, 'Training and Validation Loss')"
            ]
          },
          "metadata": {},
          "execution_count": 177
        },
        {
          "output_type": "display_data",
          "data": {
            "image/png": "[encoded data removed]",
            "text/plain": [
              "<Figure size 432x288 with 1 Axes>"
            ]
          },
          "metadata": {
            "needs_background": "light"
          }
        }
      ]
    },
    {
      "cell_type": "code",
      "metadata": {
        "id": "FOqS4hFEPLmd"
      },
      "source": [
        "import numpy as np\n",
        "from tensorflow.keras.preprocessing import image\n",
        "im = image.load_img('/content/drive/My Drive/african.jpg',target_size = (266,266))"
      ],
      "execution_count": 171,
      "outputs": []
    },
    {
      "cell_type": "code",
      "metadata": {
        "id": "mWs9zGhkPL8a"
      },
      "source": [
        "image_a = image.img_to_array(im)\n",
        "image_a = np.expand_dims(image_a/255,axis=0)"
      ],
      "execution_count": 172,
      "outputs": []
    },
    {
      "cell_type": "code",
      "metadata": {
        "colab": {
          "base_uri": "https://localhost:8080/"
        },
        "id": "BxNmf9gdPMHg",
        "outputId": "9e028eb2-5402-4756-9c54-235d936600db"
      },
      "source": [
        "a = final.predict(image_a)\n",
        "if a[0][0] >= 0.5:\n",
        "  print('asian',a[0][0])\n",
        "if a[0][0] < 0.5:\n",
        "  print('african',-1*(a[0][0]-1))"
      ],
      "execution_count": 173,
      "outputs": [
        {
          "output_type": "stream",
          "name": "stdout",
          "text": [
            "african 0.9744899030774832\n"
          ]
        }
      ]
    }
  ]
}